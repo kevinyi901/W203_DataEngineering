{
 "cells": [
  {
   "cell_type": "code",
   "execution_count": 1,
   "id": "87423d8e",
   "metadata": {},
   "outputs": [],
   "source": [
    "import redis\n",
    "\n",
    "# Connect to Redis (adjust host and port if necessary)\n",
    "r = redis.Redis(host=\"redis\", port=6379, db=3) \n"
   ]
  },
  {
   "cell_type": "code",
   "execution_count": 2,
   "id": "b65448b0",
   "metadata": {},
   "outputs": [
    {
     "name": "stdout",
     "output_type": "stream",
     "text": [
      "<redis.client.Redis(<redis.connection.ConnectionPool(<redis.connection.Connection(host=redis,port=6379,db=3)>)>)>\n"
     ]
    }
   ],
   "source": [
    "print(r)"
   ]
  },
  {
   "cell_type": "code",
   "execution_count": 3,
   "id": "7a3faa2e",
   "metadata": {},
   "outputs": [
    {
     "data": {
      "text/plain": [
       "[b'005-000107715',\n",
       " b'005-000136735',\n",
       " b'001-000263524',\n",
       " b'005-000088989',\n",
       " b'005-000157919',\n",
       " b'005-000126722',\n",
       " b'002-000217889',\n",
       " b'001-000248269',\n",
       " b'001-000255285',\n",
       " b'005-000136553',\n",
       " b'004-000183530',\n",
       " b'005-000109305',\n",
       " b'003-000209184',\n",
       " b'003-000186881',\n",
       " b'003-000177427',\n",
       " b'005-000147541',\n",
       " b'002-000105004',\n",
       " b'005-000104373',\n",
       " b'001-000144249',\n",
       " b'004-000111979',\n",
       " b'001-000163141',\n",
       " b'004-000137286',\n",
       " b'003-000131827',\n",
       " b'004-000177033',\n",
       " b'002-000144107',\n",
       " b'002-000115912',\n",
       " b'003-000099402',\n",
       " b'001-000181897',\n",
       " b'001-000169216',\n",
       " b'002-000115446',\n",
       " b'002-000203726',\n",
       " b'005-000105691',\n",
       " b'003-000154102',\n",
       " b'002-000109083',\n",
       " b'002-000158290',\n",
       " b'004-000138546',\n",
       " b'004-000115633',\n",
       " b'004-000177233',\n",
       " b'003-000183488',\n",
       " b'002-000119996',\n",
       " b'001-000179181',\n",
       " b'002-000218323',\n",
       " b'003-000134868',\n",
       " b'003-000131547',\n",
       " b'004-000089887',\n",
       " b'001-000250031',\n",
       " b'order:12345',\n",
       " b'004-000143587',\n",
       " b'003-000164376',\n",
       " b'001-000128112',\n",
       " b'004-000192337']"
      ]
     },
     "execution_count": 3,
     "metadata": {},
     "output_type": "execute_result"
    }
   ],
   "source": [
    "r.keys()"
   ]
  },
  {
   "cell_type": "code",
   "execution_count": 4,
   "id": "5fc62f9d",
   "metadata": {},
   "outputs": [
    {
     "name": "stdout",
     "output_type": "stream",
     "text": [
      "Update published: Order 12345 - Status: Dispatched - Location: Warehouse - Coordinates: {'lat': 37.8555, 'lon': -122.2604}\n",
      "Simulating delay for Dispatched: 8 minutes\n",
      "Update published: Order 12345 - Status: In Transit - Location: En route from 3000 Telegraph Ave, Berkeley - Coordinates: {'lat': 37.8565, 'lon': -122.2594}\n",
      "Simulating delay for In Transit: 14 minutes\n",
      "Update published: Order 12345 - Status: Arriving - Location: Near 38 Iowa Street, Berkeley - Coordinates: {'lat': 37.8555, 'lon': -122.2604}\n",
      "Simulating delay for Arriving: 3 minutes\n",
      "Update published: Order 12345 - Status: Delivered - Location: Customer's Door at 38 Iowa Street, Berkeley - Coordinates: {'lat': 37.8555, 'lon': -122.2604}\n",
      "Simulating delay for Delivered: 2 minutes\n"
     ]
    }
   ],
   "source": [
    "import time\n",
    "import random\n",
    "import redis\n",
    "import json\n",
    "\n",
    "\n",
    "\n",
    "# Sample JSON data (shortened for example)\n",
    "customers = [\n",
    "    {\n",
    "        \"customer_id\": 563,\n",
    "        \"first_name\": \"Rose\",\n",
    "        \"last_name\": \"Slimings\",\n",
    "        \"street\": \"38 Iowa Street\",\n",
    "        \"city\": \"Berkeley\",\n",
    "        \"state\": \"CA\",\n",
    "        \"zip\": \"94704\",\n",
    "        \"closest_store_id\": 1,\n",
    "        \"distance\": 1,\n",
    "    }\n",
    "]\n",
    "\n",
    "stores = [\n",
    "    {\n",
    "        \"store_id\": 1,\n",
    "        \"street\": \"3000 Telegraph Ave\",\n",
    "        \"city\": \"Berkeley\",\n",
    "        \"state\": \"CA\",\n",
    "        \"zip\": \"94705\",\n",
    "        \"latitude\": 37.8555,\n",
    "        \"longitude\": -122.2604,\n",
    "    }\n",
    "]\n",
    "\n",
    "# Simulated function to publish delivery updates\n",
    "def publish_delivery_update(order_id, status, location, coordinates):\n",
    "    # Define message payload\n",
    "    message = {\n",
    "        \"order_id\": order_id,\n",
    "        \"status\": status,\n",
    "        \"location\": location,\n",
    "        \"coordinates\": coordinates,\n",
    "        \"timestamp\": time.time(),\n",
    "    }\n",
    "    # Convert message dictionary to JSON string\n",
    "    message_json = json.dumps(message)\n",
    "    # Publish the message to a Redis channel\n",
    "    r.publish(\"delivery_updates\", message_json)\n",
    "    #incorporate robot/drone to receive published channel data for real-time updates\n",
    "    # Save the update in a hash for persistence, converting to JSON string\n",
    "    r.hset(f\"order:{order_id}\", mapping={k: json.dumps(v) for k, v in message.items()})\n",
    "\n",
    "# Get a sample customer and store data\n",
    "customer = customers[0]\n",
    "store = stores[0]\n",
    "\n",
    "# Simulate delivery updates with relevant locations and coordinates\n",
    "order_id = \"12345\"\n",
    "statuses = [\"Dispatched\", \"In Transit\", \"Arriving\", \"Delivered\"]\n",
    "locations = [\n",
    "    \"Warehouse\", \n",
    "    f\"En route from {store['street']}, {store['city']}\", \n",
    "    f\"Near {customer['street']}, {customer['city']}\", \n",
    "    f\"Customer's Door at {customer['street']}, {customer['city']}\"\n",
    "]\n",
    "coordinates = [\n",
    "    {\"lat\": store[\"latitude\"], \"lon\": store[\"longitude\"]},  # Warehouse\n",
    "    {\"lat\": (store[\"latitude\"] + customer[\"distance\"] * 0.001), \"lon\": (store[\"longitude\"] + customer[\"distance\"] * 0.001)},  # In Transit\n",
    "    {\"lat\": store[\"latitude\"], \"lon\": store[\"longitude\"]},  # Near customer\n",
    "    {\"lat\": store[\"latitude\"], \"lon\": store[\"longitude\"]}  # Customer's door\n",
    "]\n",
    "# Define simulated time delays (in seconds) for each status\n",
    "time_delays = {\n",
    "    \"Dispatched\": random.randint(5, 10), \n",
    "    \"In Transit\": random.randint(10, 15),  \n",
    "    \"Arriving\": random.randint(3, 6),  \n",
    "    \"Delivered\": random.randint(1, 3)  \n",
    "}\n",
    "\n",
    "# Publishing simulated delivery updates with dynamic delays\n",
    "for status, location, coordinate in zip(statuses, locations, coordinates):\n",
    "    publish_delivery_update(order_id, status, location, coordinate)\n",
    "    print(\n",
    "        f\"Update published: Order {order_id} - Status: {status} - Location: {location} - Coordinates: {coordinate}\"\n",
    "    )\n",
    "    delay = time_delays[status]\n",
    "    print(f\"Simulating delay for {status}: {delay} minutes\")\n",
    "    time.sleep(delay)  # Apply the specific delay for each status update\n",
    "\n"
   ]
  },
  {
   "cell_type": "code",
   "execution_count": null,
   "id": "65f08afd",
   "metadata": {},
   "outputs": [],
   "source": []
  }
 ],
 "metadata": {
  "kernelspec": {
   "display_name": "Python 3 (ipykernel)",
   "language": "python",
   "name": "python3"
  },
  "language_info": {
   "codemirror_mode": {
    "name": "ipython",
    "version": 3
   },
   "file_extension": ".py",
   "mimetype": "text/x-python",
   "name": "python",
   "nbconvert_exporter": "python",
   "pygments_lexer": "ipython3",
   "version": "3.9.7"
  }
 },
 "nbformat": 4,
 "nbformat_minor": 5
}
